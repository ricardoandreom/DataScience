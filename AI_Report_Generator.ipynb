{
  "cells": [
    {
      "cell_type": "code",
      "source": [
        "!pip install openAI"
      ],
      "metadata": {
        "colab": {
          "base_uri": "https://localhost:8080/"
        },
        "collapsed": true,
        "id": "gRSiTHo55SoH",
        "outputId": "58404081-2e66-4c62-ab5f-edddee068ba5"
      },
      "id": "gRSiTHo55SoH",
      "execution_count": null,
      "outputs": [
        {
          "output_type": "stream",
          "name": "stdout",
          "text": [
            "Collecting openAI\n",
            "  Downloading openai-1.30.1-py3-none-any.whl (320 kB)\n",
            "\u001b[2K     \u001b[90m━━━━━━━━━━━━━━━━━━━━━━━━━━━━━━━━━━━━━━━━\u001b[0m \u001b[32m320.6/320.6 kB\u001b[0m \u001b[31m4.1 MB/s\u001b[0m eta \u001b[36m0:00:00\u001b[0m\n",
            "\u001b[?25hRequirement already satisfied: anyio<5,>=3.5.0 in /usr/local/lib/python3.10/dist-packages (from openAI) (3.7.1)\n",
            "Requirement already satisfied: distro<2,>=1.7.0 in /usr/lib/python3/dist-packages (from openAI) (1.7.0)\n",
            "Collecting httpx<1,>=0.23.0 (from openAI)\n",
            "  Downloading httpx-0.27.0-py3-none-any.whl (75 kB)\n",
            "\u001b[2K     \u001b[90m━━━━━━━━━━━━━━━━━━━━━━━━━━━━━━━━━━━━━━━━\u001b[0m \u001b[32m75.6/75.6 kB\u001b[0m \u001b[31m4.8 MB/s\u001b[0m eta \u001b[36m0:00:00\u001b[0m\n",
            "\u001b[?25hRequirement already satisfied: pydantic<3,>=1.9.0 in /usr/local/lib/python3.10/dist-packages (from openAI) (2.7.1)\n",
            "Requirement already satisfied: sniffio in /usr/local/lib/python3.10/dist-packages (from openAI) (1.3.1)\n",
            "Requirement already satisfied: tqdm>4 in /usr/local/lib/python3.10/dist-packages (from openAI) (4.66.4)\n",
            "Requirement already satisfied: typing-extensions<5,>=4.7 in /usr/local/lib/python3.10/dist-packages (from openAI) (4.11.0)\n",
            "Requirement already satisfied: idna>=2.8 in /usr/local/lib/python3.10/dist-packages (from anyio<5,>=3.5.0->openAI) (3.7)\n",
            "Requirement already satisfied: exceptiongroup in /usr/local/lib/python3.10/dist-packages (from anyio<5,>=3.5.0->openAI) (1.2.1)\n",
            "Requirement already satisfied: certifi in /usr/local/lib/python3.10/dist-packages (from httpx<1,>=0.23.0->openAI) (2024.2.2)\n",
            "Collecting httpcore==1.* (from httpx<1,>=0.23.0->openAI)\n",
            "  Downloading httpcore-1.0.5-py3-none-any.whl (77 kB)\n",
            "\u001b[2K     \u001b[90m━━━━━━━━━━━━━━━━━━━━━━━━━━━━━━━━━━━━━━━━\u001b[0m \u001b[32m77.9/77.9 kB\u001b[0m \u001b[31m5.7 MB/s\u001b[0m eta \u001b[36m0:00:00\u001b[0m\n",
            "\u001b[?25hCollecting h11<0.15,>=0.13 (from httpcore==1.*->httpx<1,>=0.23.0->openAI)\n",
            "  Downloading h11-0.14.0-py3-none-any.whl (58 kB)\n",
            "\u001b[2K     \u001b[90m━━━━━━━━━━━━━━━━━━━━━━━━━━━━━━━━━━━━━━━━\u001b[0m \u001b[32m58.3/58.3 kB\u001b[0m \u001b[31m2.2 MB/s\u001b[0m eta \u001b[36m0:00:00\u001b[0m\n",
            "\u001b[?25hRequirement already satisfied: annotated-types>=0.4.0 in /usr/local/lib/python3.10/dist-packages (from pydantic<3,>=1.9.0->openAI) (0.6.0)\n",
            "Requirement already satisfied: pydantic-core==2.18.2 in /usr/local/lib/python3.10/dist-packages (from pydantic<3,>=1.9.0->openAI) (2.18.2)\n",
            "Installing collected packages: h11, httpcore, httpx, openAI\n",
            "Successfully installed h11-0.14.0 httpcore-1.0.5 httpx-0.27.0 openAI-1.30.1\n"
          ]
        }
      ]
    },
    {
      "cell_type": "code",
      "execution_count": null,
      "id": "e3077e8de861260f",
      "metadata": {
        "ExecuteTime": {
          "end_time": "2024-04-20T14:00:52.640152Z",
          "start_time": "2024-04-20T14:00:52.620197Z"
        },
        "id": "e3077e8de861260f"
      },
      "outputs": [],
      "source": [
        "import requests\n",
        "import pandas as pd\n",
        "\n",
        "from datetime import datetime\n",
        "\n",
        "from openai import OpenAI\n",
        "from bs4 import BeautifulSoup\n",
        "\n",
        "client = OpenAI(\n",
        "    api_key=\"...\"\n",
        ")"
      ]
    },
    {
      "cell_type": "code",
      "execution_count": null,
      "id": "e5c94a1838886c30",
      "metadata": {
        "ExecuteTime": {
          "end_time": "2024-04-20T14:19:39.948532Z",
          "start_time": "2024-04-20T14:19:39.732367Z"
        },
        "id": "e5c94a1838886c30"
      },
      "outputs": [],
      "source": [
        "# player_name = 'Francisco Conceição'\n",
        "# url = 'https://fbref.com/en/players/5ef3d210/Francisco-Conceicao'\n",
        "# attrs_percentile_stats = 'scout_summary_AM'\n",
        "# attrs_sim_players = 'similar_AM'\n",
        "\n",
        "player_name = 'Francisco Trincão'\n",
        "url = 'https://fbref.com/en/players/77e39b04/Francisco-Trincao'\n",
        "attrs_percentile_stats = 'scout_summary_AM' #MF' #DF\n",
        "attrs_sim_players = 'similar_AM'\n",
        "\n",
        "df = pd.read_html(\n",
        "    url,\n",
        "    attrs={'id': attrs_percentile_stats}\n",
        ")[0]\n",
        "\n",
        "df1 = pd.read_html(\n",
        "    url,\n",
        "    attrs={'id': attrs_sim_players}\n",
        ")[0]"
      ]
    },
    {
      "cell_type": "code",
      "source": [
        "df1['Player_Club'] = df1['Player'] + ' (' + df1['Squad'] + ')'\n",
        "\n",
        "sim_players = list(df1['Player_Club'][:6])\n",
        "sim_players"
      ],
      "metadata": {
        "colab": {
          "base_uri": "https://localhost:8080/"
        },
        "id": "3CIj3qT0Djxh",
        "outputId": "fd831215-2cb6-4103-ea04-9db6bc8f889f"
      },
      "id": "3CIj3qT0Djxh",
      "execution_count": null,
      "outputs": [
        {
          "output_type": "execute_result",
          "data": {
            "text/plain": [
              "['Steven Bergwijn (Ajax)',\n",
              " 'Calvin Stengs (Feyenoord)',\n",
              " 'Rafa Silva (Benfica)',\n",
              " 'Juan Brunetta (Tigres UANL)',\n",
              " 'Ricardo Horta (Braga)',\n",
              " 'Pedro Gonçalves (Sporting CP)']"
            ]
          },
          "metadata": {},
          "execution_count": 161
        }
      ]
    },
    {
      "cell_type": "code",
      "execution_count": null,
      "id": "cddda9a11b525d32",
      "metadata": {
        "ExecuteTime": {
          "end_time": "2024-04-20T14:19:41.138753Z",
          "start_time": "2024-04-20T14:19:40.674493Z"
        },
        "id": "cddda9a11b525d32"
      },
      "outputs": [],
      "source": [
        "response = requests.get(url)\n",
        "soup = BeautifulSoup(response.text, 'html.parser')"
      ]
    },
    {
      "cell_type": "code",
      "execution_count": null,
      "id": "dcaa5ce6b22112e3",
      "metadata": {
        "ExecuteTime": {
          "end_time": "2024-04-20T14:19:42.069149Z",
          "start_time": "2024-04-20T14:19:42.056341Z"
        },
        "id": "dcaa5ce6b22112e3"
      },
      "outputs": [],
      "source": [
        "position = soup.select_one('p:-soup-contains(\"Position\")').text.split(':')[-2].split(' ')[0].strip()\n",
        "birthday = soup.select_one('span[id=\"necro-birth\"]').text.strip()\n",
        "\n",
        "height = soup.select('#meta > div > p:nth-child(3) > span:nth-child(1)')[0].text.split('<span>')[0]\n",
        "weight = soup.select('#meta > div > p:nth-child(3) > span:nth-child(2)')[0].text\n",
        "foot = soup.select_one('p:-soup-contains(\"Footed\")').text.split('Footed')[1].split(': ')[1]\n",
        "\n",
        "age = (datetime.now() - datetime.strptime(birthday, '%B %d, %Y')).days // 365\n",
        "team = soup.select_one('p:-soup-contains(\"Club\")').text.split(':')[-1].strip()"
      ]
    },
    {
      "cell_type": "code",
      "source": [
        "media_item_div = soup.find('div', {'class': 'media-item'})\n",
        "img_tag = media_item_div.find('img') if media_item_div else None\n",
        "\n",
        "player_image_url = img_tag['src'] if img_tag else 'URL default da imagem se não encontrada'"
      ],
      "metadata": {
        "id": "kcAeNc03VtK_"
      },
      "id": "kcAeNc03VtK_",
      "execution_count": null,
      "outputs": []
    },
    {
      "cell_type": "code",
      "execution_count": null,
      "id": "76bf789d7aaacdd1",
      "metadata": {
        "ExecuteTime": {
          "end_time": "2024-04-20T14:19:42.898689Z",
          "start_time": "2024-04-20T14:19:42.894546Z"
        },
        "id": "76bf789d7aaacdd1"
      },
      "outputs": [],
      "source": [
        "# df.columns = df.columns.droplevel(0)\n",
        "\n",
        "df = df.dropna(subset='Statistic')"
      ]
    },
    {
      "cell_type": "code",
      "source": [
        "df.head()"
      ],
      "metadata": {
        "colab": {
          "base_uri": "https://localhost:8080/",
          "height": 206
        },
        "id": "zck5k5eT5iFj",
        "outputId": "713b15b1-e5d9-41e2-d7ae-753fd69aa713"
      },
      "id": "zck5k5eT5iFj",
      "execution_count": null,
      "outputs": [
        {
          "output_type": "execute_result",
          "data": {
            "text/plain": [
              "                  Statistic Per 90  Percentile\n",
              "0         Non-Penalty Goals   0.49        97.0\n",
              "1      npxG: Non-Penalty xG   0.34        91.0\n",
              "2               Shots Total   3.16        90.0\n",
              "3                   Assists   0.29        85.0\n",
              "4  xAG: Exp. Assisted Goals   0.26        83.0"
            ],
            "text/html": [
              "\n",
              "  <div id=\"df-e6a75f46-a1f3-4736-a864-37bf13e0d7db\" class=\"colab-df-container\">\n",
              "    <div>\n",
              "<style scoped>\n",
              "    .dataframe tbody tr th:only-of-type {\n",
              "        vertical-align: middle;\n",
              "    }\n",
              "\n",
              "    .dataframe tbody tr th {\n",
              "        vertical-align: top;\n",
              "    }\n",
              "\n",
              "    .dataframe thead th {\n",
              "        text-align: right;\n",
              "    }\n",
              "</style>\n",
              "<table border=\"1\" class=\"dataframe\">\n",
              "  <thead>\n",
              "    <tr style=\"text-align: right;\">\n",
              "      <th></th>\n",
              "      <th>Statistic</th>\n",
              "      <th>Per 90</th>\n",
              "      <th>Percentile</th>\n",
              "    </tr>\n",
              "  </thead>\n",
              "  <tbody>\n",
              "    <tr>\n",
              "      <th>0</th>\n",
              "      <td>Non-Penalty Goals</td>\n",
              "      <td>0.49</td>\n",
              "      <td>97.0</td>\n",
              "    </tr>\n",
              "    <tr>\n",
              "      <th>1</th>\n",
              "      <td>npxG: Non-Penalty xG</td>\n",
              "      <td>0.34</td>\n",
              "      <td>91.0</td>\n",
              "    </tr>\n",
              "    <tr>\n",
              "      <th>2</th>\n",
              "      <td>Shots Total</td>\n",
              "      <td>3.16</td>\n",
              "      <td>90.0</td>\n",
              "    </tr>\n",
              "    <tr>\n",
              "      <th>3</th>\n",
              "      <td>Assists</td>\n",
              "      <td>0.29</td>\n",
              "      <td>85.0</td>\n",
              "    </tr>\n",
              "    <tr>\n",
              "      <th>4</th>\n",
              "      <td>xAG: Exp. Assisted Goals</td>\n",
              "      <td>0.26</td>\n",
              "      <td>83.0</td>\n",
              "    </tr>\n",
              "  </tbody>\n",
              "</table>\n",
              "</div>\n",
              "    <div class=\"colab-df-buttons\">\n",
              "\n",
              "  <div class=\"colab-df-container\">\n",
              "    <button class=\"colab-df-convert\" onclick=\"convertToInteractive('df-e6a75f46-a1f3-4736-a864-37bf13e0d7db')\"\n",
              "            title=\"Convert this dataframe to an interactive table.\"\n",
              "            style=\"display:none;\">\n",
              "\n",
              "  <svg xmlns=\"http://www.w3.org/2000/svg\" height=\"24px\" viewBox=\"0 -960 960 960\">\n",
              "    <path d=\"M120-120v-720h720v720H120Zm60-500h600v-160H180v160Zm220 220h160v-160H400v160Zm0 220h160v-160H400v160ZM180-400h160v-160H180v160Zm440 0h160v-160H620v160ZM180-180h160v-160H180v160Zm440 0h160v-160H620v160Z\"/>\n",
              "  </svg>\n",
              "    </button>\n",
              "\n",
              "  <style>\n",
              "    .colab-df-container {\n",
              "      display:flex;\n",
              "      gap: 12px;\n",
              "    }\n",
              "\n",
              "    .colab-df-convert {\n",
              "      background-color: #E8F0FE;\n",
              "      border: none;\n",
              "      border-radius: 50%;\n",
              "      cursor: pointer;\n",
              "      display: none;\n",
              "      fill: #1967D2;\n",
              "      height: 32px;\n",
              "      padding: 0 0 0 0;\n",
              "      width: 32px;\n",
              "    }\n",
              "\n",
              "    .colab-df-convert:hover {\n",
              "      background-color: #E2EBFA;\n",
              "      box-shadow: 0px 1px 2px rgba(60, 64, 67, 0.3), 0px 1px 3px 1px rgba(60, 64, 67, 0.15);\n",
              "      fill: #174EA6;\n",
              "    }\n",
              "\n",
              "    .colab-df-buttons div {\n",
              "      margin-bottom: 4px;\n",
              "    }\n",
              "\n",
              "    [theme=dark] .colab-df-convert {\n",
              "      background-color: #3B4455;\n",
              "      fill: #D2E3FC;\n",
              "    }\n",
              "\n",
              "    [theme=dark] .colab-df-convert:hover {\n",
              "      background-color: #434B5C;\n",
              "      box-shadow: 0px 1px 3px 1px rgba(0, 0, 0, 0.15);\n",
              "      filter: drop-shadow(0px 1px 2px rgba(0, 0, 0, 0.3));\n",
              "      fill: #FFFFFF;\n",
              "    }\n",
              "  </style>\n",
              "\n",
              "    <script>\n",
              "      const buttonEl =\n",
              "        document.querySelector('#df-e6a75f46-a1f3-4736-a864-37bf13e0d7db button.colab-df-convert');\n",
              "      buttonEl.style.display =\n",
              "        google.colab.kernel.accessAllowed ? 'block' : 'none';\n",
              "\n",
              "      async function convertToInteractive(key) {\n",
              "        const element = document.querySelector('#df-e6a75f46-a1f3-4736-a864-37bf13e0d7db');\n",
              "        const dataTable =\n",
              "          await google.colab.kernel.invokeFunction('convertToInteractive',\n",
              "                                                    [key], {});\n",
              "        if (!dataTable) return;\n",
              "\n",
              "        const docLinkHtml = 'Like what you see? Visit the ' +\n",
              "          '<a target=\"_blank\" href=https://colab.research.google.com/notebooks/data_table.ipynb>data table notebook</a>'\n",
              "          + ' to learn more about interactive tables.';\n",
              "        element.innerHTML = '';\n",
              "        dataTable['output_type'] = 'display_data';\n",
              "        await google.colab.output.renderOutput(dataTable, element);\n",
              "        const docLink = document.createElement('div');\n",
              "        docLink.innerHTML = docLinkHtml;\n",
              "        element.appendChild(docLink);\n",
              "      }\n",
              "    </script>\n",
              "  </div>\n",
              "\n",
              "\n",
              "<div id=\"df-acc52840-ea80-4358-9244-032a63483009\">\n",
              "  <button class=\"colab-df-quickchart\" onclick=\"quickchart('df-acc52840-ea80-4358-9244-032a63483009')\"\n",
              "            title=\"Suggest charts\"\n",
              "            style=\"display:none;\">\n",
              "\n",
              "<svg xmlns=\"http://www.w3.org/2000/svg\" height=\"24px\"viewBox=\"0 0 24 24\"\n",
              "     width=\"24px\">\n",
              "    <g>\n",
              "        <path d=\"M19 3H5c-1.1 0-2 .9-2 2v14c0 1.1.9 2 2 2h14c1.1 0 2-.9 2-2V5c0-1.1-.9-2-2-2zM9 17H7v-7h2v7zm4 0h-2V7h2v10zm4 0h-2v-4h2v4z\"/>\n",
              "    </g>\n",
              "</svg>\n",
              "  </button>\n",
              "\n",
              "<style>\n",
              "  .colab-df-quickchart {\n",
              "      --bg-color: #E8F0FE;\n",
              "      --fill-color: #1967D2;\n",
              "      --hover-bg-color: #E2EBFA;\n",
              "      --hover-fill-color: #174EA6;\n",
              "      --disabled-fill-color: #AAA;\n",
              "      --disabled-bg-color: #DDD;\n",
              "  }\n",
              "\n",
              "  [theme=dark] .colab-df-quickchart {\n",
              "      --bg-color: #3B4455;\n",
              "      --fill-color: #D2E3FC;\n",
              "      --hover-bg-color: #434B5C;\n",
              "      --hover-fill-color: #FFFFFF;\n",
              "      --disabled-bg-color: #3B4455;\n",
              "      --disabled-fill-color: #666;\n",
              "  }\n",
              "\n",
              "  .colab-df-quickchart {\n",
              "    background-color: var(--bg-color);\n",
              "    border: none;\n",
              "    border-radius: 50%;\n",
              "    cursor: pointer;\n",
              "    display: none;\n",
              "    fill: var(--fill-color);\n",
              "    height: 32px;\n",
              "    padding: 0;\n",
              "    width: 32px;\n",
              "  }\n",
              "\n",
              "  .colab-df-quickchart:hover {\n",
              "    background-color: var(--hover-bg-color);\n",
              "    box-shadow: 0 1px 2px rgba(60, 64, 67, 0.3), 0 1px 3px 1px rgba(60, 64, 67, 0.15);\n",
              "    fill: var(--button-hover-fill-color);\n",
              "  }\n",
              "\n",
              "  .colab-df-quickchart-complete:disabled,\n",
              "  .colab-df-quickchart-complete:disabled:hover {\n",
              "    background-color: var(--disabled-bg-color);\n",
              "    fill: var(--disabled-fill-color);\n",
              "    box-shadow: none;\n",
              "  }\n",
              "\n",
              "  .colab-df-spinner {\n",
              "    border: 2px solid var(--fill-color);\n",
              "    border-color: transparent;\n",
              "    border-bottom-color: var(--fill-color);\n",
              "    animation:\n",
              "      spin 1s steps(1) infinite;\n",
              "  }\n",
              "\n",
              "  @keyframes spin {\n",
              "    0% {\n",
              "      border-color: transparent;\n",
              "      border-bottom-color: var(--fill-color);\n",
              "      border-left-color: var(--fill-color);\n",
              "    }\n",
              "    20% {\n",
              "      border-color: transparent;\n",
              "      border-left-color: var(--fill-color);\n",
              "      border-top-color: var(--fill-color);\n",
              "    }\n",
              "    30% {\n",
              "      border-color: transparent;\n",
              "      border-left-color: var(--fill-color);\n",
              "      border-top-color: var(--fill-color);\n",
              "      border-right-color: var(--fill-color);\n",
              "    }\n",
              "    40% {\n",
              "      border-color: transparent;\n",
              "      border-right-color: var(--fill-color);\n",
              "      border-top-color: var(--fill-color);\n",
              "    }\n",
              "    60% {\n",
              "      border-color: transparent;\n",
              "      border-right-color: var(--fill-color);\n",
              "    }\n",
              "    80% {\n",
              "      border-color: transparent;\n",
              "      border-right-color: var(--fill-color);\n",
              "      border-bottom-color: var(--fill-color);\n",
              "    }\n",
              "    90% {\n",
              "      border-color: transparent;\n",
              "      border-bottom-color: var(--fill-color);\n",
              "    }\n",
              "  }\n",
              "</style>\n",
              "\n",
              "  <script>\n",
              "    async function quickchart(key) {\n",
              "      const quickchartButtonEl =\n",
              "        document.querySelector('#' + key + ' button');\n",
              "      quickchartButtonEl.disabled = true;  // To prevent multiple clicks.\n",
              "      quickchartButtonEl.classList.add('colab-df-spinner');\n",
              "      try {\n",
              "        const charts = await google.colab.kernel.invokeFunction(\n",
              "            'suggestCharts', [key], {});\n",
              "      } catch (error) {\n",
              "        console.error('Error during call to suggestCharts:', error);\n",
              "      }\n",
              "      quickchartButtonEl.classList.remove('colab-df-spinner');\n",
              "      quickchartButtonEl.classList.add('colab-df-quickchart-complete');\n",
              "    }\n",
              "    (() => {\n",
              "      let quickchartButtonEl =\n",
              "        document.querySelector('#df-acc52840-ea80-4358-9244-032a63483009 button');\n",
              "      quickchartButtonEl.style.display =\n",
              "        google.colab.kernel.accessAllowed ? 'block' : 'none';\n",
              "    })();\n",
              "  </script>\n",
              "</div>\n",
              "    </div>\n",
              "  </div>\n"
            ],
            "application/vnd.google.colaboratory.intrinsic+json": {
              "type": "dataframe",
              "variable_name": "df",
              "summary": "{\n  \"name\": \"df\",\n  \"rows\": 19,\n  \"fields\": [\n    {\n      \"column\": \"Statistic\",\n      \"properties\": {\n        \"dtype\": \"string\",\n        \"num_unique_values\": 19,\n        \"samples\": [\n          \"Non-Penalty Goals\",\n          \"npxG + xAG\",\n          \"Successful Take-Ons\"\n        ],\n        \"semantic_type\": \"\",\n        \"description\": \"\"\n      }\n    },\n    {\n      \"column\": \"Per 90\",\n      \"properties\": {\n        \"dtype\": \"string\",\n        \"num_unique_values\": 18,\n        \"samples\": [\n          \"0.49\",\n          \"0.34\",\n          \"83.2%\"\n        ],\n        \"semantic_type\": \"\",\n        \"description\": \"\"\n      }\n    },\n    {\n      \"column\": \"Percentile\",\n      \"properties\": {\n        \"dtype\": \"number\",\n        \"std\": 27.073108731253402,\n        \"min\": 11.0,\n        \"max\": 97.0,\n        \"num_unique_values\": 18,\n        \"samples\": [\n          97.0,\n          91.0,\n          74.0\n        ],\n        \"semantic_type\": \"\",\n        \"description\": \"\"\n      }\n    }\n  ]\n}"
            }
          },
          "metadata": {},
          "execution_count": 150
        }
      ]
    },
    {
      "cell_type": "code",
      "source": [
        "prompt = f\"\"\"\n",
        "I need you to create a scouting report on {player_name}. Can you provide me with a summary of their strengths and weaknesses?\n",
        "\n",
        "Here is the data I have on him:\n",
        "\n",
        "Here is the data I have on him:\n",
        "\n",
        "Player: {player_name}\n",
        "Height: {height}\n",
        "Weight: {weight}\n",
        "Position: {position}\n",
        "Age: {age}\n",
        "Team: {team}\n",
        "\n",
        "List of similar players to {player_name} and respective clubs.\n",
        "{df1.to_markdown()}\n",
        "\n",
        "{df.to_markdown()}\n",
        "\n",
        "Return the scouting report in the following HTML:\n",
        "\n",
        "\n",
        "<!DOCTYPE html>\n",
        "<html lang=\"en\">\n",
        "<head>\n",
        "<meta charset=\"UTF-8\">\n",
        "<meta name=\"viewport\" content=\"width=device-width, initial-scale=1.0\">\n",
        "<title>Report for {player_name}</title>\n",
        "</head>\n",
        "<body>\n",
        "  <div style=\"position: relative; padding: 30px; display: flex; align-items: center;\">\n",
        "    <div style=\"flex: 0 0 auto;\">\n",
        "      <img src=\"{player_image_url}\" alt=\" {player_name} headshot\">\n",
        "    </div>\n",
        "    <div style=\"margin-left: 20px;\">\n",
        "      <h1 style=\"color: darkblue; font-size: 28px;\">Report for {player_name}</h1>\n",
        "      <p>\n",
        "        <span style=\"font-weight: bold;\">Player:</span> {player_name}<br>\n",
        "        <span style=\"font-weight: bold;\">Height:</span> {height}<br>\n",
        "        <span style=\"font-weight: bold;\">Weight:</span> {weight}<br>\n",
        "        <span style=\"font-weight: bold;\">Position:</span> {position}<br>\n",
        "        <span style=\"font-weight: bold;\">Age:</span> {age}<br>\n",
        "        <span style=\"font-weight: bold;\">Team:</span> {team}\n",
        "      </p>\n",
        "    </div>\n",
        "    <div style=\"flex: 1;\"></div>\n",
        "  </div>\n",
        "  <div style=\"padding: 0 30px;\">\n",
        "    <h1 style=\"color: darkblue; text-align: center;\">Summary</h1>\n",
        "    <p>\n",
        "      <a brief summary of the player's overall performance and if he would be beneficial to the team>\n",
        "    </p>\n",
        "    <h2 style=\"color: darkblue; text-align: left;\">Strengths</h2>\n",
        "    <ul>\n",
        "      <li><i>a list of 1 to 3 strengths</i></li>\n",
        "    </ul>\n",
        "    <h2 style=\"color: darkblue; text-align: left;\">Weaknesses</h2>\n",
        "    <ul>\n",
        "      <li><i>a list of 1 to 3 weaknesses</i></li>\n",
        "    </ul>\n",
        "    <h2 style=\"color: darkblue; text-align: left;\">Potential</h2>\n",
        "    <p>\n",
        "      < assessment of the player's potential for growth >\n",
        "    </p>\n",
        "    <h2 style=\"color: darkblue; text-align: center;\">Similar players</h2>\n",
        "      <p> < mention the similar players to {player_name} ></p>\n",
        "    <div style=\"text-align: center; margin-top: 50px;\">\n",
        "      <img src=\"https://raw.githubusercontent.com/ricardoandreom/Data/main/Images/Personal%20Logos/Half%20Space%20Preto.png\" alt=\"Logo\" style=\"width: 200px;\">\n",
        "    </div>\n",
        "  </div>\n",
        "</body>\n",
        "</html>\n",
        "\n",
        "\"\"\""
      ],
      "metadata": {
        "id": "Yhfei-ZPbRJg"
      },
      "id": "Yhfei-ZPbRJg",
      "execution_count": null,
      "outputs": []
    },
    {
      "cell_type": "code",
      "source": [
        "print(prompt)"
      ],
      "metadata": {
        "colab": {
          "base_uri": "https://localhost:8080/"
        },
        "id": "rvQ8_o7AkIWz",
        "outputId": "8037e016-78a2-4d3a-fade-17184b2e3d06"
      },
      "id": "rvQ8_o7AkIWz",
      "execution_count": null,
      "outputs": [
        {
          "output_type": "stream",
          "name": "stdout",
          "text": [
            "\n",
            "I need you to create a scouting report on Francisco Trincão. Can you provide me with a summary of their strengths and weaknesses?\n",
            "\n",
            "Here is the data I have on him:\n",
            "\n",
            "Here is the data I have on him:\n",
            "\n",
            "Player: Francisco Trincão\n",
            "Height: 186cm\n",
            "Weight: 77kg\n",
            "Position: FW-MF\n",
            "Age: 24\n",
            "Team: Sporting CP\n",
            "\n",
            "List of similar players to Francisco Trincão and respective clubs.\n",
            "|    |   Rk | Player             | Nation   | Squad       | Compare   | Player_Club                      |\n",
            "|---:|-----:|:-------------------|:---------|:------------|:----------|:---------------------------------|\n",
            "|  0 |    1 | Steven Bergwijn    | nl NED   | Ajax        | Compare   | Steven Bergwijn (Ajax)           |\n",
            "|  1 |    2 | Calvin Stengs      | nl NED   | Feyenoord   | Compare   | Calvin Stengs (Feyenoord)        |\n",
            "|  2 |    3 | Rafa Silva         | pt POR   | Benfica     | Compare   | Rafa Silva (Benfica)             |\n",
            "|  3 |    4 | Juan Brunetta      | ar ARG   | Tigres UANL | Compare   | Juan Brunetta (Tigres UANL)      |\n",
            "|  4 |    5 | Ricardo Horta      | pt POR   | Braga       | Compare   | Ricardo Horta (Braga)            |\n",
            "|  5 |    6 | Pedro Gonçalves    | pt POR   | Sporting CP | Compare   | Pedro Gonçalves (Sporting CP)    |\n",
            "|  6 |    7 | Cristo González    | es ESP   | Arouca      | Compare   | Cristo González (Arouca)         |\n",
            "|  7 |    8 | Andreas Skov Olsen | dk DEN   | Club Brugge | Compare   | Andreas Skov Olsen (Club Brugge) |\n",
            "|  8 |    9 | Anders Dreyer      | dk DEN   | Anderlecht  | Compare   | Anders Dreyer (Anderlecht)       |\n",
            "|  9 |   10 | Joseph Paintsil    | gh GHA   | LA Galaxy   | Compare   | Joseph Paintsil (LA Galaxy)      |\n",
            "\n",
            "|    | Statistic                | Per 90   |   Percentile |\n",
            "|---:|:-------------------------|:---------|-------------:|\n",
            "|  0 | Non-Penalty Goals        | 0.49     |           97 |\n",
            "|  1 | npxG: Non-Penalty xG     | 0.34     |           91 |\n",
            "|  2 | Shots Total              | 3.16     |           90 |\n",
            "|  3 | Assists                  | 0.29     |           85 |\n",
            "|  4 | xAG: Exp. Assisted Goals | 0.26     |           83 |\n",
            "|  5 | npxG + xAG               | 0.60     |           92 |\n",
            "|  6 | Shot-Creating Actions    | 4.47     |           76 |\n",
            "|  8 | Passes Attempted         | 35.93    |           53 |\n",
            "|  9 | Pass Completion %        | 83.2%    |           97 |\n",
            "| 10 | Progressive Passes       | 5.15     |           74 |\n",
            "| 11 | Progressive Carries      | 2.97     |           49 |\n",
            "| 12 | Successful Take-Ons      | 1.80     |           66 |\n",
            "| 13 | Touches (Att Pen)        | 4.08     |           64 |\n",
            "| 14 | Progressive Passes Rec   | 7.00     |           48 |\n",
            "| 16 | Tackles                  | 1.46     |           63 |\n",
            "| 17 | Interceptions            | 0.24     |           11 |\n",
            "| 18 | Blocks                   | 0.68     |           19 |\n",
            "| 19 | Clearances               | 0.44     |           40 |\n",
            "| 20 | Aerials Won              | 0.24     |           22 |\n",
            "\n",
            "Return the scouting report in the following HTML:\n",
            "\n",
            "\n",
            "<!DOCTYPE html>\n",
            "<html lang=\"en\">\n",
            "<head>\n",
            "<meta charset=\"UTF-8\">\n",
            "<meta name=\"viewport\" content=\"width=device-width, initial-scale=1.0\">\n",
            "<title>Report for Francisco Trincão</title>\n",
            "</head>\n",
            "<body>\n",
            "  <div style=\"position: relative; padding: 30px; display: flex; align-items: center;\">\n",
            "    <div style=\"flex: 0 0 auto;\">\n",
            "      <img src=\"https://fbref.com/req/202302030/images/headshots/77e39b04_2022.jpg\" alt=\" Francisco Trincão headshot\">\n",
            "    </div>\n",
            "    <div style=\"margin-left: 20px;\">\n",
            "      <h1 style=\"color: darkblue; font-size: 28px;\">Report for Francisco Trincão</h1>\n",
            "      <p>\n",
            "        <span style=\"font-weight: bold;\">Player:</span> Francisco Trincão<br>\n",
            "        <span style=\"font-weight: bold;\">Height:</span> 186cm<br>\n",
            "        <span style=\"font-weight: bold;\">Weight:</span> 77kg<br>\n",
            "        <span style=\"font-weight: bold;\">Position:</span> FW-MF<br>\n",
            "        <span style=\"font-weight: bold;\">Age:</span> 24<br>\n",
            "        <span style=\"font-weight: bold;\">Team:</span> Sporting CP\n",
            "      </p>\n",
            "    </div>\n",
            "    <div style=\"flex: 1;\"></div>\n",
            "  </div>\n",
            "  <div style=\"padding: 0 30px;\">\n",
            "    <h1 style=\"color: darkblue; text-align: center;\">Summary</h1>\n",
            "    <p>\n",
            "      <a brief summary of the player's overall performance and if he would be beneficial to the team>\n",
            "    </p>\n",
            "    <h2 style=\"color: darkblue; text-align: left;\">Strengths</h2>\n",
            "    <ul>\n",
            "      <li><i>a list of 1 to 3 strengths</i></li>\n",
            "    </ul>\n",
            "    <h2 style=\"color: darkblue; text-align: left;\">Weaknesses</h2>\n",
            "    <ul>\n",
            "      <li><i>a list of 1 to 3 weaknesses</i></li>\n",
            "    </ul>\n",
            "    <h2 style=\"color: darkblue; text-align: left;\">Potential</h2>\n",
            "    <p>\n",
            "      < assessment of the player's potential for growth >\n",
            "    </p>\n",
            "    <h2 style=\"color: darkblue; text-align: center;\">Similar players</h2>\n",
            "      <p> < mention the similar players to Francisco Trincão ></p>\n",
            "    <div style=\"text-align: center; margin-top: 50px;\">\n",
            "      <img src=\"https://raw.githubusercontent.com/ricardoandreom/Data/main/Images/Personal%20Logos/Half%20Space%20Preto.png\" alt=\"Logo\" style=\"width: 200px;\">\n",
            "    </div>\n",
            "  </div>\n",
            "</body>\n",
            "</html>\n",
            "\n",
            "\n"
          ]
        }
      ]
    },
    {
      "cell_type": "code",
      "execution_count": null,
      "id": "5e83191cab6041f4",
      "metadata": {
        "ExecuteTime": {
          "end_time": "2024-04-20T14:20:11.847303Z",
          "start_time": "2024-04-20T14:19:47.651708Z"
        },
        "id": "5e83191cab6041f4"
      },
      "outputs": [],
      "source": [
        "response = client.chat.completions.create(\n",
        "    model=\"gpt-4-turbo\",\n",
        "    messages=[\n",
        "        {\"role\": \"system\", \"content\": \"You are a professional football (soccer) scout.\"},\n",
        "        {\"role\": \"user\", \"content\": prompt},\n",
        "    ],\n",
        ")"
      ]
    },
    {
      "cell_type": "code",
      "execution_count": null,
      "id": "791d801c6c9fb3e7",
      "metadata": {
        "ExecuteTime": {
          "end_time": "2024-04-20T14:20:12.718972Z",
          "start_time": "2024-04-20T14:20:12.712730Z"
        },
        "id": "791d801c6c9fb3e7"
      },
      "outputs": [],
      "source": [
        "#print(response.choices[0].message.content)"
      ]
    },
    {
      "cell_type": "code",
      "source": [
        "!pip install weasyprint"
      ],
      "metadata": {
        "colab": {
          "base_uri": "https://localhost:8080/"
        },
        "collapsed": true,
        "id": "kp0EZzbiMV1P",
        "outputId": "17b54590-5053-4243-b4b6-e5aad02d5e4e"
      },
      "id": "kp0EZzbiMV1P",
      "execution_count": null,
      "outputs": [
        {
          "output_type": "stream",
          "name": "stdout",
          "text": [
            "Collecting weasyprint\n",
            "  Downloading weasyprint-62.1-py3-none-any.whl (289 kB)\n",
            "\u001b[?25l     \u001b[90m━━━━━━━━━━━━━━━━━━━━━━━━━━━━━━━━━━━━━━━━\u001b[0m \u001b[32m0.0/289.1 kB\u001b[0m \u001b[31m?\u001b[0m eta \u001b[36m-:--:--\u001b[0m\r\u001b[2K     \u001b[91m━━━━━━━━━━━━━━━━━━━━━━━━\u001b[0m\u001b[90m╺\u001b[0m\u001b[90m━━━━━━━━━━━━━━━\u001b[0m \u001b[32m174.1/289.1 kB\u001b[0m \u001b[31m5.0 MB/s\u001b[0m eta \u001b[36m0:00:01\u001b[0m\r\u001b[2K     \u001b[90m━━━━━━━━━━━━━━━━━━━━━━━━━━━━━━━━━━━━━━━━\u001b[0m \u001b[32m289.1/289.1 kB\u001b[0m \u001b[31m4.5 MB/s\u001b[0m eta \u001b[36m0:00:00\u001b[0m\n",
            "\u001b[?25hCollecting pydyf>=0.10.0 (from weasyprint)\n",
            "  Downloading pydyf-0.10.0-py3-none-any.whl (8.1 kB)\n",
            "Requirement already satisfied: cffi>=0.6 in /usr/local/lib/python3.10/dist-packages (from weasyprint) (1.16.0)\n",
            "Requirement already satisfied: html5lib>=1.1 in /usr/local/lib/python3.10/dist-packages (from weasyprint) (1.1)\n",
            "Requirement already satisfied: tinycss2>=1.3.0 in /usr/local/lib/python3.10/dist-packages (from weasyprint) (1.3.0)\n",
            "Collecting cssselect2>=0.1 (from weasyprint)\n",
            "  Downloading cssselect2-0.7.0-py3-none-any.whl (15 kB)\n",
            "Collecting Pyphen>=0.9.1 (from weasyprint)\n",
            "  Downloading pyphen-0.15.0-py3-none-any.whl (2.1 MB)\n",
            "\u001b[2K     \u001b[90m━━━━━━━━━━━━━━━━━━━━━━━━━━━━━━━━━━━━━━━━\u001b[0m \u001b[32m2.1/2.1 MB\u001b[0m \u001b[31m25.0 MB/s\u001b[0m eta \u001b[36m0:00:00\u001b[0m\n",
            "\u001b[?25hRequirement already satisfied: Pillow>=9.1.0 in /usr/local/lib/python3.10/dist-packages (from weasyprint) (9.4.0)\n",
            "Requirement already satisfied: fonttools[woff]>=4.0.0 in /usr/local/lib/python3.10/dist-packages (from weasyprint) (4.51.0)\n",
            "Requirement already satisfied: pycparser in /usr/local/lib/python3.10/dist-packages (from cffi>=0.6->weasyprint) (2.22)\n",
            "Requirement already satisfied: webencodings in /usr/local/lib/python3.10/dist-packages (from cssselect2>=0.1->weasyprint) (0.5.1)\n",
            "Collecting zopfli>=0.1.4 (from fonttools[woff]>=4.0.0->weasyprint)\n",
            "  Downloading zopfli-0.2.3-cp310-cp310-manylinux_2_12_x86_64.manylinux2010_x86_64.whl (848 kB)\n",
            "\u001b[2K     \u001b[90m━━━━━━━━━━━━━━━━━━━━━━━━━━━━━━━━━━━━━━━━\u001b[0m \u001b[32m848.9/848.9 kB\u001b[0m \u001b[31m26.6 MB/s\u001b[0m eta \u001b[36m0:00:00\u001b[0m\n",
            "\u001b[?25hCollecting brotli>=1.0.1 (from fonttools[woff]>=4.0.0->weasyprint)\n",
            "  Downloading Brotli-1.1.0-cp310-cp310-manylinux_2_5_x86_64.manylinux1_x86_64.manylinux_2_12_x86_64.manylinux2010_x86_64.whl (3.0 MB)\n",
            "\u001b[2K     \u001b[90m━━━━━━━━━━━━━━━━━━━━━━━━━━━━━━━━━━━━━━━━\u001b[0m \u001b[32m3.0/3.0 MB\u001b[0m \u001b[31m31.6 MB/s\u001b[0m eta \u001b[36m0:00:00\u001b[0m\n",
            "\u001b[?25hRequirement already satisfied: six>=1.9 in /usr/local/lib/python3.10/dist-packages (from html5lib>=1.1->weasyprint) (1.16.0)\n",
            "Installing collected packages: brotli, zopfli, Pyphen, pydyf, cssselect2, weasyprint\n",
            "Successfully installed Pyphen-0.15.0 brotli-1.1.0 cssselect2-0.7.0 pydyf-0.10.0 weasyprint-62.1 zopfli-0.2.3\n"
          ]
        }
      ]
    },
    {
      "cell_type": "code",
      "source": [
        "from weasyprint import HTML\n",
        "\n",
        "html = response.choices[0].message.content#.split('```html')[1].split('```')[0]\n",
        "\n",
        "output_pdf = player_name + \"_scouting_report.pdf\"\n",
        "\n",
        "with open(\"temp.html\", \"w\") as f:\n",
        "    f.write(html)\n",
        "\n",
        "HTML(\"temp.html\").write_pdf(output_pdf)\n",
        "\n",
        "import os\n",
        "os.remove(\"temp.html\")\n"
      ],
      "metadata": {
        "id": "R5tNtPGs-qJ_"
      },
      "id": "R5tNtPGs-qJ_",
      "execution_count": null,
      "outputs": []
    },
    {
      "cell_type": "code",
      "source": [
        "response.choices[0].message.content#.split('```html')[1].split('```')[0]"
      ],
      "metadata": {
        "colab": {
          "base_uri": "https://localhost:8080/",
          "height": 140
        },
        "id": "GbFt3v9fkdCQ",
        "outputId": "86ae5aab-8b6f-4619-c082-b32c1ea21f30"
      },
      "id": "GbFt3v9fkdCQ",
      "execution_count": null,
      "outputs": [
        {
          "output_type": "execute_result",
          "data": {
            "text/plain": [
              "'<!DOCTYPE html>\\n<html lang=\"en\">\\n<head>\\n<meta charset=\"UTF-8\">\\n<meta name=\"viewport\" content=\"width=device-width, initial-scale=1.0\">\\n<title>Report for João Neves</title>\\n</head>\\n<body>\\n  <div style=\"position: relative; padding: 30px; display: flex; align-items: center;\">\\n    <div style=\"flex: 0 0 auto;\">\\n      <img src=\"https://fbref.com/req/202302030/images/headshots/5ef3d210_2022.jpg\" alt=\"João Neves headshot\">\\n    </div>\\n    <div style=\"margin-left: 20px;\">\\n      <h1 style=\"color: darkblue; font-size: 28px;\">Report for João Neves</h1>\\n      <p>\\n        <span style=\"font-weight: bold;\">Player:</span> João Neves<br>\\n        <span style=\"font-weight: bold;\">Height:</span> 186cm<br>\\n        <span style=\"font-weight: bold;\">Weight:</span> 77kg<br>\\n        <span style=\"font-weight: bold;\">Position:</span> FW-MF<br>\\n        <span style=\"font-weight: bold;\">Age:</span> 24<br>\\n        <span style=\"font-weight: bold;\">Team:</span> Sporting CP\\n      </p>\\n    </div>\\n    <div style=\"flex: 1;\"></div>\\n  </div>\\n  <div style=\"padding: 0 30px;\">\\n    <h1 style=\"color: darkblue; text-align: center;\">Summary</h1>\\n    <p>\\n      João Neves demonstrates exceptional proficiency in his offensive roles, marked by his high performance in scoring and playmaking. His high percentile rankings in non-penalty goals and assists indicate his crucial role in attacking plays. He would be a valuable addition in enhancing team creativity and goal-scoring capabilities.\\n    </p>\\n    <h2 style=\"color: darkblue; text-align: left;\">Strengths</h2>\\n    <ul>\\n      <li>High efficiency in scoring, with a significantly high percentile in non-penalty goals (97th percentile).</li>\\n      <li>Excellent playmaking ability, with strong performances in assists and shot-creating actions.</li>\\n      <li>Reliable passing accuracy (83.2%), beneficial for maintaining possession and building plays.</li>\\n    </ul>\\n    <h2 style=\"color: darkblue; text-align: left;\">Weaknesses</h2>\\n    <ul>\\n      <li>Limited defensive contributions, with low percentile ranks in interceptions and blocks.</li>\\n      <li>Could improve in the physical aspects of the game, shown by low aerial duel success.</li>\\n    </ul>\\n    <h2 style=\"color: darkblue; text-align: left;\">Potential</h2>\\n    <p>\\n      João Neves exhibits significant potential for further development, especially in refining his skills in possession retention and defensive engagements. Given the proper training and development environment, his ability to impact the game could see substantial growth.\\n    </p>\\n    <h2 style=\"color: darkblue; text-align: center;\">Similar players</h2>\\n      <p>Players similar to João Neves include Steven Bergwijn (Ajax), Rafa Silva (Benfica), and Pedro Gonçalves (Sporting CP), indicating a style of play that combines agility, creativity, and scoring proficiency.</p>\\n    <div style=\"text-align: center; margin-top: 50px;\">\\n      <img src=\"https://raw.githubusercontent.com/ricardoandreom/Data/main/Images/Personal%20Logos/Half%20Space%20Preto.png\" alt=\"Logo\" style=\"width: 200px;\">\\n    </div>\\n  </div>\\n</body>\\n</html>\\n'"
            ],
            "application/vnd.google.colaboratory.intrinsic+json": {
              "type": "string"
            }
          },
          "metadata": {},
          "execution_count": 155
        }
      ]
    },
    {
      "cell_type": "code",
      "source": [
        "#response.choices[0].message.content.split('```html')[1].split('```')[0]\n"
      ],
      "metadata": {
        "colab": {
          "base_uri": "https://localhost:8080/",
          "height": 140
        },
        "id": "IB-a1sV3TKg7",
        "outputId": "874777d0-0619-4113-cb74-d6a8ed17054e"
      },
      "id": "IB-a1sV3TKg7",
      "execution_count": null,
      "outputs": [
        {
          "output_type": "execute_result",
          "data": {
            "text/plain": [
              "'\\n<!DOCTYPE html>\\n<html lang=\"en\">\\n<head>\\n<meta charset=\"UTF-8\">\\n<meta name=\"viewport\" content=\"width=device-width, initial-scale=1.0\">\\n<title>Report for Francisco Conceição</title>\\n</head>\\n<body>\\n  <div style=\"position: relative; padding: 30px;\">\\n    <h1 style=\"color: darkblue; text-align: center; position: relative; top: 0px; right: 0px; width: 500px;\">Report for Francisco Conceição</h1>\\n    <p style=\"position: absolute; top: 120px; right: 1000px; width: 200px;\">\\n      <span style=\"font-weight: bold;\">Player:</span> Francisco Conceição<br>\\n      <span style=\"font-weight: bold;\">Height:</span> 170cm<br>\\n      <span style=\"font-weight: bold;\">Weight:</span> 63kg<br>\\n      <span style=\"font-weight: bold;\">Position:</span> FW-MF<br>\\n      <span style=\"font-weight: bold;\">Age:</span> 21<br>\\n      <span style=\"font-weight: bold;\">Team:</span> Porto\\n    </p>\\n    <div style=\"text-align: center;\">\\n      <img src=\"https://fbref.com/req/202302030/images/headshots/5ef3d210_2022.jpg\" alt=\"Francisco Conceição headshot\">\\n    </div>\\n    <h1 style=\"color: darkblue; text-align: center;\">Summary</h1>\\n    <p>\\n      Francisco Conceição is a highly talented forward/midfielder currently playing for Porto. At 21 years of age, he displays impressive skills in creating opportunities and taking on defenders. His performance suggests a strong future potential, and he could bring creativity and sharp attacking skills to any team.\\n    </p>\\n    <h2 style=\"color: darkblue; text-align: left;\">Strengths</h2>\\n    <ul>\\n      <li>Dribbling and ball control – Exceptional ability in taking on players with a percentile rank of 95 for successful take-ons.</li>\\n      <li>Creating scoring opportunities – He ranks in the top 90 percentile for shot-creating actions per 90 minutes.</li>\\n      <li>Positioning and movement – High volume of touches in the attacking penalty area showcases his ability to get into dangerous positions.</li>\\n    </ul>\\n    <h2 style=\"color: darkblue; text-align: left;\">Weaknesses</h2>\\n    <ul>\\n      <li>Defensive contribution – Low percentile in interceptions, suggesting a need for improvement in defensive engagements.</li>\\n      <li>Physicality – A lower ranking in aerial duels won, indicating a struggle in aerial challenges due to his physique.</li>\\n      <li>Pass completion rate – At 73.6%, it indicates that there is room for improvement in his passing accuracy, especially under pressure.</li>\\n    </ul>\\n    <h2 style=\"color: darkblue; text-align: left;\">Potential</h2>\\n    <p>\\n      Conceição has significant potential for growth, especially in refining his technical and physical attributes in the defensive phase. His natural offensive skills make him a valuable prospect for teams looking for an agile, attacking-minded player who can maneuver tightly marked spaces.\\n    </p>\\n    <h2 style=\"color: darkblue; text-align: center;\">Similar players</h2>\\n      <p>Francisco Conceição is often compared to players such as Andreas Skov Olsen (Club Brugge), Crysencio Summerville (Leeds United), and Angel Di Maria (Benfica) for their similar attacking flair and ability to influence the game in the final third.</p>\\n    <div style=\"text-align: center; margin-top: 50px;\">\\n      <img src=\"https://raw.githubusercontent.com/ricardoandreom/Data/main/Images/Personal%20Logos/Half%20Space%20Preto.png\" alt=\"Logo\" style=\"width: 200px;\">\\n    </div>\\n  </div>\\n</body>\\n</html>\\n'"
            ],
            "application/vnd.google.colaboratory.intrinsic+json": {
              "type": "string"
            }
          },
          "metadata": {},
          "execution_count": 104
        }
      ]
    }
  ],
  "metadata": {
    "kernelspec": {
      "display_name": "Python 3 (ipykernel)",
      "language": "python",
      "name": "python3"
    },
    "language_info": {
      "codemirror_mode": {
        "name": "ipython",
        "version": 3
      },
      "file_extension": ".py",
      "mimetype": "text/x-python",
      "name": "python",
      "nbconvert_exporter": "python",
      "pygments_lexer": "ipython3",
      "version": "3.10.8"
    },
    "colab": {
      "provenance": []
    }
  },
  "nbformat": 4,
  "nbformat_minor": 5
}